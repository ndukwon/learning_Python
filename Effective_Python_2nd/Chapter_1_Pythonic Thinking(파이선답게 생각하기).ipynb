{
 "cells": [
  {
   "cell_type": "markdown",
   "id": "d8b3763a",
   "metadata": {},
   "source": [
    "# Chapter 1. Pythonic Thinking - 파이선답게 생각하기\n",
    "\n",
    "- 자연스럽게 생겨난 스타일로 명시적, 단순함, 가독성을 추구함\n",
    "- 예제: https://github.com/bslatkin/effectivepython/tree/master/example_code"
   ]
  },
  {
   "cell_type": "code",
   "execution_count": 1,
   "id": "f0eabb9b",
   "metadata": {},
   "outputs": [
    {
     "name": "stdout",
     "output_type": "stream",
     "text": [
      "The Zen of Python, by Tim Peters\n",
      "\n",
      "Beautiful is better than ugly.\n",
      "Explicit is better than implicit.\n",
      "Simple is better than complex.\n",
      "Complex is better than complicated.\n",
      "Flat is better than nested.\n",
      "Sparse is better than dense.\n",
      "Readability counts.\n",
      "Special cases aren't special enough to break the rules.\n",
      "Although practicality beats purity.\n",
      "Errors should never pass silently.\n",
      "Unless explicitly silenced.\n",
      "In the face of ambiguity, refuse the temptation to guess.\n",
      "There should be one-- and preferably only one --obvious way to do it.\n",
      "Although that way may not be obvious at first unless you're Dutch.\n",
      "Now is better than never.\n",
      "Although never is often better than *right* now.\n",
      "If the implementation is hard to explain, it's a bad idea.\n",
      "If the implementation is easy to explain, it may be a good idea.\n",
      "Namespaces are one honking great idea -- let's do more of those!\n"
     ]
    }
   ],
   "source": [
    "import this\n",
    "# import this는 Python의 Easter egg이다.\n",
    "# 첫 한번만 출력됨\n",
    "#\n",
    "# The Zen of Python, by Tim Peters\n",
    "# Beautiful is better than ugly.\n",
    "# Explicit is better than implicit.\n",
    "# Simple is better than complex.\n",
    "# Complex is better than complicated.\n",
    "# Flat is better than nested.\n",
    "# Sparse is better than dense.\n",
    "# Readability counts.\n",
    "# Special cases aren't special enough to break the rules.\n",
    "# Although practicality beats purity.\n",
    "# Errors should never pass silently.\n",
    "# Unless explicitly silenced.\n",
    "# In the face of ambiguity, refuse the temptation to guess.\n",
    "# There should be one-- and preferably only one --obvious way to do it.\n",
    "# Although that way may not be obvious at first unless you're Dutch.\n",
    "# Now is better than never.\n",
    "# Although never is often better than *right* now.\n",
    "# If the implementation is hard to explain, it's a bad idea.\n",
    "# If the implementation is easy to explain, it may be a good idea.\n",
    "# Namespaces are one honking great idea -- let's do more of those!"
   ]
  },
  {
   "cell_type": "markdown",
   "id": "28fea58a",
   "metadata": {},
   "source": [
    "## Better way 1.  사용 중인 파이썬의 버전을 알아두라\n",
    "- 하지만 Python 2는 이제 그만...(2020.01.01 부터 지원중단)"
   ]
  },
  {
   "cell_type": "code",
   "execution_count": 2,
   "id": "9bf3ddca",
   "metadata": {},
   "outputs": [
    {
     "name": "stdout",
     "output_type": "stream",
     "text": [
      "sys.version_info(major=3, minor=9, micro=12, releaselevel='final', serial=0)\n",
      "3.9.12 (main, Apr  5 2022, 06:56:58) \n",
      "[GCC 7.5.0]\n"
     ]
    }
   ],
   "source": [
    "import sys\n",
    "print(sys.version_info)\n",
    "print(sys.version)"
   ]
  },
  {
   "cell_type": "markdown",
   "id": "509e6a2c",
   "metadata": {},
   "source": [
    "## Better way 2. PEP 8 스타일 가이드를 따르라\n",
    "- PEP: Python Enhancement Proposal - 파이썬 코드를 어떤 형식으로 작성할지 알려주는 스타일 가이드\n",
    "    - https://peps.python.org/pep-0008/\n",
    "\n",
    "1. 공백(스페이스 4칸이냐 2칸이냐의 차이 외에는 다른 언어와 유사)\n",
    "    1. 들여쓰기는 스페이스(No 탭)\n",
    "    2. 문법적으로 중요한 들여쓰기는 4칸 스페이스\n",
    "        - 항상 4칸이 아니고??\n",
    "    3. 라인 길이는 79개 문자\n",
    "    4. 줄바꿈일 경우 +4칸 스페이스\n",
    "    5. 함수와 클래스 사이 공백 2줄\n",
    "    6. 메서드들 사이 공백 1줄\n",
    "    7. 콜론(:) 앞 공백 X,  콜론(:) 뒤에는 1칸 스페이스 - Dictionary key/value, 변수 타입표기\n",
    "    8. 변수 대입 = 앞뒤에는 1칸 스페이스\n",
    "\n",
    "2. 명명 규약(클래스명/상수명은 다른 언어와 유사, 변수/함수 등은 스네이크 표기법이라 다른 언어와 크게 다름)\n",
    "    1. 함수, 변수, attribute명: 소문자 스네이크(underscore) 표기법 - ex) lowercase_underscore\n",
    "    2. 보호되어야 하는 attribute명: _로 시작 - ex) _leading_underscore\n",
    "    3. private attribute명: __로 시작 - ex) __leading_underscore\n",
    "    4. 클래스명: 파스칼 표기법 - ex) CapitalizedWord\n",
    "    5. 상수명: 대문자 스네이크(underscore) 표기법 - ex) ALL_CAPS\n",
    "    6. 인스턴스 메서드 호출 첫번째 인자의 이름으로 반드시 self를 사용\n",
    "    7. 클래스 메서드(java의 static?) 첫번째 인자의 이름으로 반드시 cls를 사용\n",
    "3. 식과 문\n",
    "    1. 긍정적인 식을 부정하지 말고 그냥 부정적인 식을 써라\n",
    "        - not (a == 1) 로 쓰지 말고 a != 1로\n",
    "    2. '', [] 등은 Falsy 이므로 길이나 사이즈로 체크하지 않아도 된다.\n",
    "    3. 2번과 유사하게 'aaa', [1, 2] 등은 Truthy 이므로 길이나 사이즈로 체크하지 않아도 된다.\n",
    "    4. 한 줄로 if, for, while, except 복합문 금지. 여러줄에 나눠서 명확하게 하기\n",
    "    5. 한 줄이 넘어가는 수식의 경우 괄호로 묶고 들여쓰기 하면서 여러줄에 나눠서 쓰기\n",
    "    6. 6번의 경우 \\ (슬래시)도 가능하지만 괄호가 낫다\n",
    "    \n",
    "4. import\n",
    "    1. import는 제일 위에 선언\n",
    "    2. 절대이름을 사용\n",
    "    3. 꼭 상대경로로 임포트해야 하는 경우 명시적인 구분을 해두길\n",
    "    4. import 섹션을 모듈별로 나누어라\n",
    "        1. 표준 라이브러리 모듈 >> 서드파티 모듈 >> 커스텀 모듈\n",
    "        2. 모듈단위에서는 알파벳 오름차순"
   ]
  },
  {
   "cell_type": "code",
   "execution_count": 2,
   "id": "d998ec60",
   "metadata": {},
   "outputs": [
    {
     "name": "stdout",
     "output_type": "stream",
     "text": [
      "The value is \" [] \"\n",
      "not ~ is True\n",
      "not not ~ is False\n",
      "[] is falsy\n",
      "The value is \"  \"\n",
      "not ~ is True\n",
      "not not ~ is False\n",
      " is falsy\n",
      "The value is \"  \"\n",
      "not ~ is True\n",
      "not not ~ is False\n",
      " is falsy\n"
     ]
    },
    {
     "ename": "ModuleNotFoundError",
     "evalue": "No module named 'foo'",
     "output_type": "error",
     "traceback": [
      "\u001b[0;31m---------------------------------------------------------------------------\u001b[0m",
      "\u001b[0;31mModuleNotFoundError\u001b[0m                       Traceback (most recent call last)",
      "Input \u001b[0;32mIn [2]\u001b[0m, in \u001b[0;36m<cell line: 18>\u001b[0;34m()\u001b[0m\n\u001b[1;32m     14\u001b[0m testFalsy(\u001b[38;5;124m\"\u001b[39m\u001b[38;5;124m\"\u001b[39m)\n\u001b[1;32m     17\u001b[0m \u001b[38;5;66;03m# 4.2\u001b[39;00m\n\u001b[0;32m---> 18\u001b[0m \u001b[38;5;28;01mimport\u001b[39;00m \u001b[38;5;21;01mfoo\u001b[39;00m \u001b[38;5;66;03m# Bad\u001b[39;00m\n\u001b[1;32m     19\u001b[0m \u001b[38;5;28;01mfrom\u001b[39;00m \u001b[38;5;21;01mbar\u001b[39;00m \u001b[38;5;28;01mimport\u001b[39;00m foo \u001b[38;5;66;03m# Good\u001b[39;00m\n\u001b[1;32m     21\u001b[0m \u001b[38;5;66;03m# 4.3\u001b[39;00m\n",
      "\u001b[0;31mModuleNotFoundError\u001b[0m: No module named 'foo'"
     ]
    }
   ],
   "source": [
    "# 3.2\n",
    "def testFalsy(vari):\n",
    "    print('The value is \"', vari, '\"')\n",
    "    print('not ~ is', not vari)\n",
    "    print('not not ~ is', not not vari)\n",
    "\n",
    "    if vari:\n",
    "        print(vari, 'is true')\n",
    "    else: \n",
    "        print(vari, 'is falsy')\n",
    "\n",
    "testFalsy([])\n",
    "testFalsy('')\n",
    "testFalsy(\"\")\n",
    "\n",
    "\n",
    "# 4.2\n",
    "import foo # Bad\n",
    "from bar import foo # Good\n",
    "\n",
    "# 4.3\n",
    "from . import foo"
   ]
  },
  {
   "cell_type": "markdown",
   "id": "19f23dc0",
   "metadata": {},
   "source": [
    "## Better way 3. bytes와 str의 차이를 알아두라\n",
    "1. Python 문자열 데이터 표현방법 두가지: byte, str\n",
    "    1. byte => str: byte 객체에 .decode()를 써서 str으로 변환\n",
    "        - decode('utf-8') 호출시 \n",
    "    2. str => byte: str 객체에 .encode()를 써서 byte로 변환\n",
    "2. 일반적으로 시스템 디폴트 인코딩 utf-8을 사용\n",
    "3. 입력값이 어떻든 utf-8 인코딩 텍스트를 반환하게 하는것이 이상적\n",
    "    - 그렇게 다양한 입력형태를 자주 쓰는건가?\n",
    "4. byte와 str의 연산, 비교는 지원되지 않는다. 즉, str + byte 식으로 조합, str < byte 비교 할 수 없다.\n",
    "    - 당연한거 아닌가?\n",
    "5. format 형식 문자열에서도 형식을 따져야 함\n",
    "    - byte 안에 %s를 채우는 것이 str일 수 없다\n",
    "        - Erorr 발생\n",
    "    - str 안에 %s를 채우는 것이 byte일 수 없고\n",
    "        - Error는 발생하지 않지만 앞에 b가 붙는다. 이것이 원하는 방식은 아닐것\n",
    "6. File 입출력 할때 str으로 열었으면 str 형태로 쓰고, byte로 열었으면 byte로 써라\n",
    "    - str write mode: 'w'\n",
    "    - byte write mode: 'wb'\n",
    "    - str read mode: 'r'\n",
    "    - byte read mode: 'rb'\n",
    "    - file의 인코딩(encoding)을 지정해서 읽을 수도 있다."
   ]
  },
  {
   "cell_type": "code",
   "execution_count": 5,
   "id": "91e1e182",
   "metadata": {},
   "outputs": [
    {
     "name": "stdout",
     "output_type": "stream",
     "text": [
      "[104, 101, 108, 108, 111]\n",
      "b'hello'\n",
      "hello\n",
      "['h', 'e', 'l', 'l', 'o']\n",
      "hello\n",
      "b'hello'\n",
      "[97, 92, 117, 48, 51, 48, 48, 32, 112, 114, 111, 112, 111, 115]\n",
      "b'a\\\\u0300 propos'\n",
      "a\\u0300 propos\n",
      "a\\u0300 propos\n",
      "a\\u0300 propos\n",
      "['a', '̀', ' ', 'p', 'r', 'o', 'p', 'o', 's']\n",
      "à propos\n",
      "b'a\\xcc\\x80 propos'\n",
      "b'test byte text'\n",
      "TypeError\n",
      "test b'byte text'\n",
      "test str text\n",
      "writing byte failed in str mode file\n",
      "writing str success in str mode file\n",
      "writing byte success in byte mode file\n",
      "writing byte failed in byte mode file\n",
      "f.read()= AAA\n",
      "f.read()= b'AAA'\n",
      "reading as str failed in byte mode file\n",
      "f.read()= b'\\xf1\\xf2\\xf3\\xf4\\xf5'\n"
     ]
    }
   ],
   "source": [
    "# 3.1\n",
    "a = b'h\\x65llo'\n",
    "print(list(a))\n",
    "print(a)\n",
    "print(a.decode())\n",
    "\n",
    "b = 'h\\x65llo'\n",
    "print(list(b))\n",
    "print(b)\n",
    "print(b.encode())\n",
    "\n",
    "a = b'a\\u0300 propos'\n",
    "print(list(a))\n",
    "print(a)\n",
    "print(a.decode())\n",
    "print(a.decode('utf-8'))\n",
    "print(a.decode('Latin-1'))\n",
    "\n",
    "b = 'a\\u0300 propos'\n",
    "print(list(b))\n",
    "print(b)\n",
    "print(b.encode())\n",
    "\n",
    "# 3.5\n",
    "print(b'test %s' % b'byte text')\n",
    "try:\n",
    "    print(b'test %s' % 'str text')\n",
    "    # TypeError: %b requires a bytes-like object, or an object that implements __bytes__, not 'str'\n",
    "except:\n",
    "    print('TypeError')\n",
    "print('test %s' % b'byte text')\n",
    "print('test %s' % 'str text')\n",
    "\n",
    "# 3.6\n",
    "with open('test_str_mode_open.txt', 'w') as f:\n",
    "    try:\n",
    "        f.write(b'\\xf1\\xf2\\xf3\\xf4\\xf5')\n",
    "        # TypeError: write() argument must be str, not bytes\n",
    "        print('writing byte success in str mode file')\n",
    "    except:\n",
    "        print('writing byte failed in str mode file')\n",
    "    \n",
    "    f.write('AAA')\n",
    "    print('writing str success in str mode file')\n",
    "    \n",
    "with open('test_byte_mode_open.txt', 'wb') as f:\n",
    "    f.write(b'\\xf1\\xf2\\xf3\\xf4\\xf5')\n",
    "    print('writing byte success in byte mode file')\n",
    "\n",
    "    try:\n",
    "        f.write('AAA')\n",
    "        # TypeError: a bytes-like object is required, not 'str'\n",
    "        print('writing byte success in byte mode file')\n",
    "    except:\n",
    "        print('writing byte failed in byte mode file')\n",
    "        \n",
    "with open('test_str_mode_open.txt', 'r') as f:\n",
    "    print('f.read()=', f.read())\n",
    "with open('test_str_mode_open.txt', 'rb') as f:\n",
    "    print('f.read()=', f.read())\n",
    "with open('test_byte_mode_open.txt', 'r') as f:\n",
    "    try:\n",
    "        print('f.read()=', f.read())\n",
    "        # UnicodeDecodeError: 'utf-8' codec can't decode byte 0xf1 in position 0: invalid continuation byte\n",
    "    except:\n",
    "        print('reading as str failed in byte mode file')\n",
    "with open('test_byte_mode_open.txt', 'rb') as f:\n",
    "    print('f.read()=', f.read())"
   ]
  },
  {
   "cell_type": "markdown",
   "id": "5bddb47d",
   "metadata": {},
   "source": [
    "## Better way 4. C 스타일 형식 문자열을 str.format과 쓰기 보다는 f-문자열을 통한 안터폴레이션을 사용하라.\n",
    "1. C언어 스타일: %d, %s 등 치환하는 형식에 맞춰서 값들을 전달하는 방식\n",
    "    - print('%d %s' & (10, \"진수\"))\n",
    "    - 단점: \n",
    "        1. 데이터의 순서를 변경하면 망함\n",
    "        2. 형식화하기 전 값을 살짝 변경하게 되면 식을 읽기가 매우 어려움\n",
    "        3. 같은 값을 참조하고 싶다면 여러번 반복해서 전달\n",
    "        4. 형식화식에서 Dictionary를 사용하면 문장이 번잡해진다.\n",
    "    - 단점 1, 2, 3은 Dictionary 를 전달하는 방식으로 어느정도 해결은 가능\n",
    "2. str.formt 방식: 데이터의 형식을 정하지 않아도 됨. Python 3에서 부터 추가\n",
    "    - '{0} {1}'.format(10, \"진수\")\n",
    "    - 단점:\n",
    "        1. C언어 스타일의 단점2와 동일하다.\n",
    "        \n",
    "3. f-문자열: 변수명을 직접 쓴다. Python 3.6에서 부터 추가\n",
    "    - f'{key} = {value}'\n",
    "        - key, value 가 변수명임\n",
    "    - f'{key} = {value: {places}f}' 형태처럼 places라는 변수로 자리수를 동적으로 적용될 수 있도록 가능함"
   ]
  },
  {
   "cell_type": "code",
   "execution_count": 4,
   "id": "50cccb5a",
   "metadata": {},
   "outputs": [
    {
     "name": "stdout",
     "output_type": "stream",
     "text": [
      "The number is 1.23456\n",
      "The number is  1.235\n",
      "The number is 1.235\n"
     ]
    }
   ],
   "source": [
    "places = 3\n",
    "number = 1.23456\n",
    "print(f'The number is {number}')\n",
    "print(f'The number is {number: .{places}f}')\n",
    "print(f'The number is {number:.{places}f}')"
   ]
  },
  {
   "cell_type": "markdown",
   "id": "ce868dfa",
   "metadata": {},
   "source": []
  }
 ],
 "metadata": {
  "kernelspec": {
   "display_name": "Python 3 (ipykernel)",
   "language": "python",
   "name": "python3"
  },
  "language_info": {
   "codemirror_mode": {
    "name": "ipython",
    "version": 3
   },
   "file_extension": ".py",
   "mimetype": "text/x-python",
   "name": "python",
   "nbconvert_exporter": "python",
   "pygments_lexer": "ipython3",
   "version": "3.9.12"
  }
 },
 "nbformat": 4,
 "nbformat_minor": 5
}
